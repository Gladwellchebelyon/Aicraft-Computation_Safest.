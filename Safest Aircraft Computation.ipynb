{
 "cells": [
  {
   "cell_type": "markdown",
   "metadata": {},
   "source": [
    "Phase 1 Project: Safest Aircraft analysis.\n",
    "\n",
    "In this project I would wish  to answer a question of *which is the safest aicraft to choose*. \n",
    "\n",
    "The question is presented to my business stakeholds as they strive to determine the safest aircraft to invest their business in.\n",
    "\n",
    "For this to be achieved, I have a data to load, do cleaning and inspect all relevant information.\n",
    "\n",
    "The following are the steps to successfully answer the business stakeholders.\n",
    "\n",
    "1. Data cleaning.\n",
    "\n",
    "      1.1 Data extraction\n",
    "\n",
    "      1.2 Data loading (into dataframes)\n",
    "\n",
    "      1.3 Data Cleaning\n",
    "\n",
    "      1.4 Standardizing columns\n",
    "      \n",
    "\n",
    "2. Data Analysis:\n",
    "\n",
    "Aggregate data to understand the frequency and severity of incidents per aircraft make and model.\n",
    "\n",
    "3. Computations \n",
    "\n",
    "This is to calculate the safety scores of different aircrafts and models.\n",
    "\n",
    "4. Data Visualization.\n",
    "\n",
    "Here I will use different visualization to present my findings.\n",
    "\n"
   ]
  },
  {
   "cell_type": "markdown",
   "metadata": {},
   "source": [
    "1. Data Cleaning.\n",
    "\n",
    "    1.1 Data extraction \n",
    "    "
   ]
  },
  {
   "cell_type": "code",
   "execution_count": 2,
   "metadata": {},
   "outputs": [
    {
     "name": "stdout",
     "output_type": "stream",
     "text": [
      "Zip file extracted successfully.\n"
     ]
    }
   ],
   "source": [
    "import zipfile\n",
    "import os\n",
    "import pandas as pd\n",
    "\n",
    "zip_file_path = r\"C:\\Users\\Mum PC\\Desktop\\New folder\\archive.zip\"\n",
    "\n",
    "extracted_dir = r\"C:\\Users\\Mum PC\\Desktop\\New folder\\extracted_files\"\n",
    "\n",
    "def extract_zip(zip_file_path, extract_to):\n",
    "    with zipfile.ZipFile(zip_file_path, 'r') as zip_ref:\n",
    "        zip_ref.extractall(extract_to)\n",
    "\n",
    "if os.path.exists(zip_file_path):\n",
    "   \n",
    "    if not os.path.exists(extracted_dir):\n",
    "        os.makedirs(extracted_dir)\n",
    "    \n",
    "    extract_zip(zip_file_path, extracted_dir)\n",
    "    print(\"Zip file extracted successfully.\")\n",
    "    \n",
    "    "
   ]
  },
  {
   "cell_type": "markdown",
   "metadata": {},
   "source": [
    "    1.2 Data loading\n",
    "    "
   ]
  },
  {
   "cell_type": "code",
   "execution_count": 31,
   "metadata": {},
   "outputs": [],
   "source": [
    "aviation_data = pd.read_csv('C:\\\\Users\\\\Mum PC\\\\Desktop\\\\New folder\\\\extracted_files\\\\AviationData.csv', encoding='latin1')\n",
    "us_state_codes= pd.read_csv('C:\\\\Users\\\\Mum PC\\\\Desktop\\\\New folder\\\\extracted_files\\\\AviationData.csv', encoding='latin1')"
   ]
  },
  {
   "cell_type": "code",
   "execution_count": 4,
   "metadata": {},
   "outputs": [
    {
     "name": "stdout",
     "output_type": "stream",
     "text": [
      "         Event.Id Investigation.Type Accident.Number  Event.Date  \\\n",
      "0  20001218X45444           Accident      SEA87LA080  1948-10-24   \n",
      "1  20001218X45447           Accident      LAX94LA336  1962-07-19   \n",
      "2  20061025X01555           Accident      NYC07LA005  1974-08-30   \n",
      "3  20001218X45448           Accident      LAX96LA321  1977-06-19   \n",
      "4  20041105X01764           Accident      CHI79FA064  1979-08-02   \n",
      "\n",
      "          Location        Country Latitude Longitude Airport.Code  \\\n",
      "0  MOOSE CREEK, ID  United States      NaN       NaN          NaN   \n",
      "1   BRIDGEPORT, CA  United States      NaN       NaN          NaN   \n",
      "2    Saltville, VA  United States  36.9222  -81.8781          NaN   \n",
      "3       EUREKA, CA  United States      NaN       NaN          NaN   \n",
      "4       Canton, OH  United States      NaN       NaN          NaN   \n",
      "\n",
      "  Airport.Name  ... Purpose.of.flight Air.carrier Total.Fatal.Injuries  \\\n",
      "0          NaN  ...          Personal         NaN                  2.0   \n",
      "1          NaN  ...          Personal         NaN                  4.0   \n",
      "2          NaN  ...          Personal         NaN                  3.0   \n",
      "3          NaN  ...          Personal         NaN                  2.0   \n",
      "4          NaN  ...          Personal         NaN                  1.0   \n",
      "\n",
      "  Total.Serious.Injuries Total.Minor.Injuries Total.Uninjured  \\\n",
      "0                    0.0                  0.0             0.0   \n",
      "1                    0.0                  0.0             0.0   \n",
      "2                    NaN                  NaN             NaN   \n",
      "3                    0.0                  0.0             0.0   \n",
      "4                    2.0                  NaN             0.0   \n",
      "\n",
      "  Weather.Condition  Broad.phase.of.flight   Report.Status Publication.Date  \n",
      "0               UNK                 Cruise  Probable Cause              NaN  \n",
      "1               UNK                Unknown  Probable Cause       19-09-1996  \n",
      "2               IMC                 Cruise  Probable Cause       26-02-2007  \n",
      "3               IMC                 Cruise  Probable Cause       12-09-2000  \n",
      "4               VMC               Approach  Probable Cause       16-04-1980  \n",
      "\n",
      "[5 rows x 31 columns]\n",
      "         Event.Id Investigation.Type Accident.Number  Event.Date  \\\n",
      "0  20001218X45444           Accident      SEA87LA080  1948-10-24   \n",
      "1  20001218X45447           Accident      LAX94LA336  1962-07-19   \n",
      "2  20061025X01555           Accident      NYC07LA005  1974-08-30   \n",
      "3  20001218X45448           Accident      LAX96LA321  1977-06-19   \n",
      "4  20041105X01764           Accident      CHI79FA064  1979-08-02   \n",
      "\n",
      "          Location        Country Latitude Longitude Airport.Code  \\\n",
      "0  MOOSE CREEK, ID  United States      NaN       NaN          NaN   \n",
      "1   BRIDGEPORT, CA  United States      NaN       NaN          NaN   \n",
      "2    Saltville, VA  United States  36.9222  -81.8781          NaN   \n",
      "3       EUREKA, CA  United States      NaN       NaN          NaN   \n",
      "4       Canton, OH  United States      NaN       NaN          NaN   \n",
      "\n",
      "  Airport.Name  ... Purpose.of.flight Air.carrier Total.Fatal.Injuries  \\\n",
      "0          NaN  ...          Personal         NaN                  2.0   \n",
      "1          NaN  ...          Personal         NaN                  4.0   \n",
      "2          NaN  ...          Personal         NaN                  3.0   \n",
      "3          NaN  ...          Personal         NaN                  2.0   \n",
      "4          NaN  ...          Personal         NaN                  1.0   \n",
      "\n",
      "  Total.Serious.Injuries Total.Minor.Injuries Total.Uninjured  \\\n",
      "0                    0.0                  0.0             0.0   \n",
      "1                    0.0                  0.0             0.0   \n",
      "2                    NaN                  NaN             NaN   \n",
      "3                    0.0                  0.0             0.0   \n",
      "4                    2.0                  NaN             0.0   \n",
      "\n",
      "  Weather.Condition  Broad.phase.of.flight   Report.Status Publication.Date  \n",
      "0               UNK                 Cruise  Probable Cause              NaN  \n",
      "1               UNK                Unknown  Probable Cause       19-09-1996  \n",
      "2               IMC                 Cruise  Probable Cause       26-02-2007  \n",
      "3               IMC                 Cruise  Probable Cause       12-09-2000  \n",
      "4               VMC               Approach  Probable Cause       16-04-1980  \n",
      "\n",
      "[5 rows x 31 columns]\n"
     ]
    }
   ],
   "source": [
    "print(aviation_data.head())\n",
    "print(us_state_codes.head())"
   ]
  },
  {
   "cell_type": "markdown",
   "metadata": {},
   "source": [
    "    \n",
    "    1.3 Checking missing values"
   ]
  },
  {
   "cell_type": "code",
   "execution_count": 5,
   "metadata": {},
   "outputs": [
    {
     "name": "stdout",
     "output_type": "stream",
     "text": [
      "\n",
      "Missing values in Aviation Data:\n",
      "Event.Id                      0\n",
      "Investigation.Type            0\n",
      "Accident.Number               0\n",
      "Event.Date                    0\n",
      "Location                     52\n",
      "Country                     226\n",
      "Latitude                  54507\n",
      "Longitude                 54516\n",
      "Airport.Code              38640\n",
      "Airport.Name              36099\n",
      "Injury.Severity            1000\n",
      "Aircraft.damage            3194\n",
      "Aircraft.Category         56602\n",
      "Registration.Number        1317\n",
      "Make                         63\n",
      "Model                        92\n",
      "Amateur.Built               102\n",
      "Number.of.Engines          6084\n",
      "Engine.Type                7077\n",
      "FAR.Description           56866\n",
      "Schedule                  76307\n",
      "Purpose.of.flight          6192\n",
      "Air.carrier               72241\n",
      "Total.Fatal.Injuries      11401\n",
      "Total.Serious.Injuries    12510\n",
      "Total.Minor.Injuries      11933\n",
      "Total.Uninjured            5912\n",
      "Weather.Condition          4492\n",
      "Broad.phase.of.flight     27165\n",
      "Report.Status              6381\n",
      "Publication.Date          13771\n",
      "dtype: int64\n",
      "\n",
      "Missing values in US State Data:\n",
      "Event.Id                      0\n",
      "Investigation.Type            0\n",
      "Accident.Number               0\n",
      "Event.Date                    0\n",
      "Location                     52\n",
      "Country                     226\n",
      "Latitude                  54507\n",
      "Longitude                 54516\n",
      "Airport.Code              38640\n",
      "Airport.Name              36099\n",
      "Injury.Severity            1000\n",
      "Aircraft.damage            3194\n",
      "Aircraft.Category         56602\n",
      "Registration.Number        1317\n",
      "Make                         63\n",
      "Model                        92\n",
      "Amateur.Built               102\n",
      "Number.of.Engines          6084\n",
      "Engine.Type                7077\n",
      "FAR.Description           56866\n",
      "Schedule                  76307\n",
      "Purpose.of.flight          6192\n",
      "Air.carrier               72241\n",
      "Total.Fatal.Injuries      11401\n",
      "Total.Serious.Injuries    12510\n",
      "Total.Minor.Injuries      11933\n",
      "Total.Uninjured            5912\n",
      "Weather.Condition          4492\n",
      "Broad.phase.of.flight     27165\n",
      "Report.Status              6381\n",
      "Publication.Date          13771\n",
      "dtype: int64\n"
     ]
    }
   ],
   "source": [
    "\n",
    "print(\"\\nMissing values in Aviation Data:\")\n",
    "print(aviation_data.isnull().sum())\n",
    "\n",
    "print(\"\\nMissing values in US State Data:\")\n",
    "print(us_state_codes.isnull().sum())"
   ]
  },
  {
   "cell_type": "markdown",
   "metadata": {},
   "source": [
    "1.2 Handling missing values.\n",
    "\n",
    "The following cells drops and adds relevant information into the columns"
   ]
  },
  {
   "cell_type": "code",
   "execution_count": 6,
   "metadata": {},
   "outputs": [],
   "source": [
    "\n",
    "aviation_data['Event.Date'] = pd.to_datetime(aviation_data['Event.Date'], errors='coerce')\n",
    "aviation_data['Event.Date'].fillna(pd.to_datetime('1948-10-24'), inplace=True)\n"
   ]
  },
  {
   "cell_type": "code",
   "execution_count": 7,
   "metadata": {},
   "outputs": [],
   "source": [
    "\n",
    "aviation_data.dropna(subset=['Make', 'Model'], inplace=True)\n"
   ]
  },
  {
   "cell_type": "code",
   "execution_count": 8,
   "metadata": {},
   "outputs": [],
   "source": [
    "\n",
    "aviation_data.fillna({'Total.Fatal.Injuries': 0, 'Total.Serious.Injuries': 0, 'Total.Minor.Injuries': 0}, inplace=True)\n"
   ]
  },
  {
   "cell_type": "markdown",
   "metadata": {},
   "source": [
    "2. Extracting State Abbreviation from location"
   ]
  },
  {
   "cell_type": "code",
   "execution_count": 9,
   "metadata": {},
   "outputs": [],
   "source": [
    "# Function to extract state abbreviation from location\n",
    "def extract_state_abbreviation(location):\n",
    "    if isinstance(location, str) and ', ' in location:\n",
    "        return location.split(', ')[-1]\n",
    "    return None\n",
    "\n",
    "\n",
    "aviation_data['State_Abbreviation'] = aviation_data['Location'].apply(extract_state_abbreviation)\n"
   ]
  },
  {
   "cell_type": "markdown",
   "metadata": {},
   "source": [
    "3. Bivariate Analysis"
   ]
  },
  {
   "cell_type": "code",
   "execution_count": 10,
   "metadata": {},
   "outputs": [
    {
     "name": "stdout",
     "output_type": "stream",
     "text": [
      "               Make Model  Total_Incidents  Total.Fatal.Injuries  \\\n",
      "40   AERO COMMANDER   100                8                   2.0   \n",
      "70   AERO COMMANDER   S2R               14                   3.0   \n",
      "91          AERONCA  11AC               23                   4.0   \n",
      "94          AERONCA  15AC                9                   1.0   \n",
      "100         AERONCA   7AC               63                  12.0   \n",
      "\n",
      "     Total.Serious.Injuries  Total.Minor.Injuries  Fatalities_Per_Incident  \\\n",
      "40                      2.0                   1.0                 0.250000   \n",
      "70                      1.0                   3.0                 0.214286   \n",
      "91                      7.0                   3.0                 0.173913   \n",
      "94                      0.0                   1.0                 0.111111   \n",
      "100                    17.0                   6.0                 0.190476   \n",
      "\n",
      "     Serious_Injuries_Per_Incident  Minor_Injuries_Per_Incident  \n",
      "40                        0.250000                     0.125000  \n",
      "70                        0.071429                     0.214286  \n",
      "91                        0.304348                     0.130435  \n",
      "94                        0.000000                     0.111111  \n",
      "100                       0.269841                     0.095238  \n"
     ]
    }
   ],
   "source": [
    "# Aggregate data by aircraft make and model\n",
    "aircraft_agg = aviation_data.groupby(['Make', 'Model']).agg({\n",
    "    'Event.Id': 'count',\n",
    "    'Total.Fatal.Injuries': 'sum',\n",
    "    'Total.Serious.Injuries': 'sum',\n",
    "    'Total.Minor.Injuries': 'sum'\n",
    "}).reset_index().rename(columns={'Event.Id': 'Total_Incidents'})\n",
    "\n",
    "# Calculate safety metrics\n",
    "aircraft_agg['Fatalities_Per_Incident'] = aircraft_agg['Total.Fatal.Injuries'] / aircraft_agg['Total_Incidents']\n",
    "aircraft_agg['Serious_Injuries_Per_Incident'] = aircraft_agg['Total.Serious.Injuries'] / aircraft_agg['Total_Incidents']\n",
    "aircraft_agg['Minor_Injuries_Per_Incident'] = aircraft_agg['Total.Minor.Injuries'] / aircraft_agg['Total_Incidents']\n",
    "\n",
    "# Filter for aircraft with significant data; >5\n",
    "significant_aircraft = aircraft_agg[aircraft_agg['Total_Incidents'] > 5]\n",
    "\n",
    "print(significant_aircraft.head())\n"
   ]
  },
  {
   "cell_type": "markdown",
   "metadata": {},
   "source": [
    "4. Filter aircraft make for a significant view and visualization"
   ]
  },
  {
   "cell_type": "code",
   "execution_count": 11,
   "metadata": {},
   "outputs": [
    {
     "name": "stdout",
     "output_type": "stream",
     "text": [
      "               Make Model  Total_Incidents  Total.Fatal.Injuries  \\\n",
      "40   AERO COMMANDER   100                8                   2.0   \n",
      "70   AERO COMMANDER   S2R               14                   3.0   \n",
      "91          AERONCA  11AC               23                   4.0   \n",
      "94          AERONCA  15AC                9                   1.0   \n",
      "100         AERONCA   7AC               63                  12.0   \n",
      "\n",
      "     Total.Serious.Injuries  Total.Minor.Injuries  Fatalities_Per_Incident  \\\n",
      "40                      2.0                   1.0                 0.250000   \n",
      "70                      1.0                   3.0                 0.214286   \n",
      "91                      7.0                   3.0                 0.173913   \n",
      "94                      0.0                   1.0                 0.111111   \n",
      "100                    17.0                   6.0                 0.190476   \n",
      "\n",
      "     Serious_Injuries_Per_Incident  Minor_Injuries_Per_Incident  \n",
      "40                        0.250000                     0.125000  \n",
      "70                        0.071429                     0.214286  \n",
      "91                        0.304348                     0.130435  \n",
      "94                        0.000000                     0.111111  \n",
      "100                       0.269841                     0.095238  \n"
     ]
    }
   ],
   "source": [
    "\n",
    "significant_aircraft = aircraft_agg[aircraft_agg['Total_Incidents'] > 5]\n",
    "\n",
    "print(significant_aircraft.head())"
   ]
  },
  {
   "cell_type": "markdown",
   "metadata": {},
   "source": [
    "5. Statistical measures.\n",
    "\n",
    "This finds mean,median and standard devation respectively"
   ]
  },
  {
   "cell_type": "code",
   "execution_count": 12,
   "metadata": {},
   "outputs": [
    {
     "name": "stdout",
     "output_type": "stream",
     "text": [
      "Mean Fatal Injuries: 2.4887763210170837\n",
      "Mean Serious Injuries: 1.0600913786253476\n",
      "Mean Minor Injuries: 1.3634783472387764\n"
     ]
    }
   ],
   "source": [
    "# calculate mean\n",
    "mean_fatal_injuries = aircraft_agg['Total.Fatal.Injuries'].mean()\n",
    "mean_serious_injuries = aircraft_agg['Total.Serious.Injuries'].mean()\n",
    "mean_minor_injuries = aircraft_agg['Total.Minor.Injuries'].mean()\n",
    "\n",
    "print(\"Mean Fatal Injuries:\", mean_fatal_injuries)\n",
    "print(\"Mean Serious Injuries:\", mean_serious_injuries)\n",
    "print(\"Mean Minor Injuries:\", mean_minor_injuries)"
   ]
  },
  {
   "cell_type": "code",
   "execution_count": 13,
   "metadata": {},
   "outputs": [
    {
     "name": "stdout",
     "output_type": "stream",
     "text": [
      "Median Fatal Injuries: 0.0\n",
      "Median Serious Injuries: 0.0\n",
      "Median Minor Injuries: 0.0\n"
     ]
    }
   ],
   "source": [
    "\n",
    "# calculate median\n",
    "\n",
    "median_fatal_injuries = aircraft_agg['Total.Fatal.Injuries'].median()\n",
    "median_serious_injuries = aircraft_agg['Total.Serious.Injuries'].median()\n",
    "\n",
    "median_minor_injuries = aircraft_agg['Total.Minor.Injuries'].median()\n",
    "\n",
    "print(\"Median Fatal Injuries:\", median_fatal_injuries)\n",
    "print(\"Median Serious Injuries:\", median_serious_injuries)\n",
    "print(\"Median Minor Injuries:\", median_minor_injuries)"
   ]
  },
  {
   "cell_type": "code",
   "execution_count": 14,
   "metadata": {},
   "outputs": [
    {
     "name": "stdout",
     "output_type": "stream",
     "text": [
      "Std Fatal Injuries: 18.708939264844016\n",
      "Std Serious Injuries: 6.2422309873650725\n",
      "Std Minor Injuries: 9.565054926010577\n"
     ]
    }
   ],
   "source": [
    "# calculate standard deviation\n",
    "\n",
    "std_fatal_injuries = aircraft_agg['Total.Fatal.Injuries'].std()\n",
    "std_serious_injuries = aircraft_agg['Total.Serious.Injuries'].std()\n",
    "\n",
    "std_minor_injuries = aircraft_agg['Total.Minor.Injuries'].std()\n",
    "\n",
    "print(\"Std Fatal Injuries:\", std_fatal_injuries)\n",
    "print(\"Std Serious Injuries:\", std_serious_injuries)\n",
    "print(\"Std Minor Injuries:\", std_minor_injuries)"
   ]
  },
  {
   "cell_type": "code",
   "execution_count": 32,
   "metadata": {},
   "outputs": [
    {
     "name": "stdout",
     "output_type": "stream",
     "text": [
      "Summary Statistics:\n",
      "        Number.of.Engines  Total.Fatal.Injuries  Total.Serious.Injuries  \\\n",
      "count       82805.000000          77488.000000            76379.000000   \n",
      "mean            1.146585              0.647855                0.279881   \n",
      "std             0.446510              5.485960                1.544084   \n",
      "min             0.000000              0.000000                0.000000   \n",
      "25%             1.000000              0.000000                0.000000   \n",
      "50%             1.000000              0.000000                0.000000   \n",
      "75%             1.000000              0.000000                0.000000   \n",
      "max             8.000000            349.000000              161.000000   \n",
      "\n",
      "       Total.Minor.Injuries  Total.Uninjured  \n",
      "count          76956.000000     82977.000000  \n",
      "mean               0.357061         5.325440  \n",
      "std                2.235625        27.913634  \n",
      "min                0.000000         0.000000  \n",
      "25%                0.000000         0.000000  \n",
      "50%                0.000000         1.000000  \n",
      "75%                0.000000         2.000000  \n",
      "max              380.000000       699.000000  \n"
     ]
    }
   ],
   "source": [
    "# perform summary statistics\n",
    "data = pd.read_csv('C:\\\\Users\\\\Mum PC\\\\Desktop\\\\New folder\\\\extracted_files\\\\AviationData.csv', encoding='latin1')\n",
    "summary_stats = data.describe()\n",
    "print(\"Summary Statistics:\\n\", summary_stats)"
   ]
  },
  {
   "cell_type": "markdown",
   "metadata": {},
   "source": [
    "6. Conducting Exploratory Data Analysis."
   ]
  },
  {
   "cell_type": "code",
   "execution_count": 16,
   "metadata": {},
   "outputs": [],
   "source": [
    "import pandas as pd\n",
    "import seaborn as sns\n",
    "import matplotlib.pyplot as plt\n"
   ]
  },
  {
   "cell_type": "code",
   "execution_count": 17,
   "metadata": {},
   "outputs": [
    {
     "data": {
      "image/png": "[encoded data removed]",
      "text/plain": [
       "<Figure size 720x432 with 1 Axes>"
      ]
     },
     "metadata": {
      "needs_background": "light"
     },
     "output_type": "display_data"
    }
   ],
   "source": [
    "# Distribution of Total Fatal Injuries\n",
    "plt.figure(figsize=(10, 6))\n",
    "sns.histplot(aviation_data['Total.Fatal.Injuries'].dropna(), kde=True)\n",
    "plt.title('Distribution of Total Fatal Injuries')\n",
    "plt.xlabel('Total Fatal Injuries')\n",
    "plt.ylabel('Frequency')\n",
    "plt.savefig('/New folder/distribution of Total Fatal Injuries.png')\n",
    "plt.show()"
   ]
  },
  {
   "cell_type": "code",
   "execution_count": 18,
   "metadata": {},
   "outputs": [
    {
     "data": {
      "image/png": "[encoded data removed]",
      "text/plain": [
       "<Figure size 720x432 with 1 Axes>"
      ]
     },
     "metadata": {
      "needs_background": "light"
     },
     "output_type": "display_data"
    }
   ],
   "source": [
    "# Distribution of Total Serious Injuries\n",
    "plt.figure(figsize=(10, 6))\n",
    "sns.histplot(aviation_data['Total.Serious.Injuries'].dropna(), kde=True)\n",
    "plt.title('Distribution of Total Serious Injuries')\n",
    "plt.xlabel('Total Serious Injuries')\n",
    "plt.ylabel('Frequency')\n",
    "plt.savefig('/New folder/distribution of Total Serious Injuries.png')\n",
    "plt.show()"
   ]
  },
  {
   "cell_type": "code",
   "execution_count": 19,
   "metadata": {},
   "outputs": [
    {
     "data": {
      "image/png": "[encoded data removed]",
      "text/plain": [
       "<Figure size 720x432 with 1 Axes>"
      ]
     },
     "metadata": {
      "needs_background": "light"
     },
     "output_type": "display_data"
    }
   ],
   "source": [
    "# Distribution of total minor injuries\n",
    "\n",
    "plt.figure(figsize=(10, 6))\n",
    "sns.histplot(aviation_data['Total.Minor.Injuries'].dropna(), kde=True)\n",
    "plt.title('Distribution of Total Minor Injuries')\n",
    "plt.xlabel('Total Minor Injuries')\n",
    "plt.ylabel('Frequency')\n",
    "plt.savefig('/New folder/distribution of Total Minor Injuries.png')\n",
    "plt.show()"
   ]
  },
  {
   "cell_type": "markdown",
   "metadata": {},
   "source": [
    "7. Finding correlation analysis"
   ]
  },
  {
   "cell_type": "code",
   "execution_count": 34,
   "metadata": {},
   "outputs": [
    {
     "data": {
      "image/png": "[encoded data removed]",
      "text/plain": [
       "<Figure size 720x576 with 2 Axes>"
      ]
     },
     "metadata": {
      "needs_background": "light"
     },
     "output_type": "display_data"
    }
   ],
   "source": [
    "import pandas as pd\n",
    "import seaborn as sns\n",
    "import matplotlib.pyplot as plt\n",
    "\n",
    "aviation_data = pd.read_csv('C:\\\\Users\\\\Mum PC\\\\Desktop\\\\New folder\\\\extracted_files\\\\AviationData.csv', encoding='latin1')\n",
    "\n",
    "# Calculate the correlation matrix\n",
    "correlation_matrix = aviation_data.corr()\n",
    "\n",
    "# Visualize the correlation matrix using a heatmap\n",
    "plt.figure(figsize=(10, 8))\n",
    "sns.heatmap(correlation_matrix, annot=True, cmap=\"coolwarm\", fmt=\".2f\")\n",
    "plt.title(\"Correlation Matrix\")\n",
    "plt.ylabel('Frequency')\n",
    "plt.savefig('/New folder/ Correlation Matrix.png')\n",
    "\n",
    "plt.show()\n"
   ]
  },
  {
   "cell_type": "markdown",
   "metadata": {},
   "source": [
    "8. Checking for the safest aicraft model\n",
    "\n",
    "The following cells finds the safest models and defining them"
   ]
  },
  {
   "cell_type": "code",
   "execution_count": 21,
   "metadata": {},
   "outputs": [],
   "source": [
    "# Adding a column for total injuries\n",
    "aircraft_agg['Total.Injuries'] = (aircraft_agg['Total.Fatal.Injuries'] +\n",
    "                                  aircraft_agg['Total.Serious.Injuries'] +\n",
    "                                  aircraft_agg['Total.Minor.Injuries'])"
   ]
  },
  {
   "cell_type": "code",
   "execution_count": 22,
   "metadata": {},
   "outputs": [],
   "source": [
    "safest_aircraft = aircraft_agg.nsmallest(10, 'Total.Injuries')"
   ]
  },
  {
   "cell_type": "code",
   "execution_count": 23,
   "metadata": {},
   "outputs": [],
   "source": [
    "top_aircraft = aircraft_agg.nlargest(10, 'Total.Injuries')"
   ]
  },
  {
   "cell_type": "code",
   "execution_count": 24,
   "metadata": {},
   "outputs": [
    {
     "data": {
      "image/png": "[encoded data removed]",
      "text/plain": [
       "<Figure size 1080x576 with 1 Axes>"
      ]
     },
     "metadata": {
      "needs_background": "light"
     },
     "output_type": "display_data"
    }
   ],
   "source": [
    "plt.figure(figsize=(15, 8))\n",
    "sns.barplot(data=top_aircraft, x='Model', y='Total.Injuries')\n",
    "plt.xticks(rotation=90)\n",
    "plt.title('Total Injuries by Aircraft Model')\n",
    "plt.xlabel('Aircraft Model')\n",
    "plt.ylabel('Total Injuries')\n",
    "plt.show()"
   ]
  },
  {
   "cell_type": "markdown",
   "metadata": {},
   "source": [
    "8.1 Summary statistics of safest aicraft model"
   ]
  },
  {
   "cell_type": "code",
   "execution_count": 25,
   "metadata": {},
   "outputs": [
    {
     "name": "stdout",
     "output_type": "stream",
     "text": [
      "\n",
      "Summary Statistics of Top Aircraft Models\n",
      "          Make Model  Total_Incidents  Total.Fatal.Injuries  \\\n",
      "count       10    10        10.000000             10.000000   \n",
      "unique       5    10              NaN                   NaN   \n",
      "top     Cessna   172              NaN                   NaN   \n",
      "freq         4     1              NaN                   NaN   \n",
      "mean       NaN   NaN       728.500000            478.300000   \n",
      "std        NaN   NaN       637.506122            370.607324   \n",
      "min        NaN   NaN         3.000000            201.000000   \n",
      "25%        NaN   NaN       424.500000            244.250000   \n",
      "50%        NaN   NaN       571.500000            354.000000   \n",
      "75%        NaN   NaN       950.000000            491.750000   \n",
      "max        NaN   NaN      2168.000000           1348.000000   \n",
      "\n",
      "        Total.Serious.Injuries  Total.Minor.Injuries  Fatalities_Per_Incident  \\\n",
      "count                10.000000             10.000000                10.000000   \n",
      "unique                     NaN                   NaN                      NaN   \n",
      "top                        NaN                   NaN                      NaN   \n",
      "freq                       NaN                   NaN                      NaN   \n",
      "mean                158.000000            216.100000                20.079946   \n",
      "std                  98.725208            138.643788                55.732489   \n",
      "min                   0.000000              0.000000                 0.160978   \n",
      "25%                 113.500000            101.500000                 0.313450   \n",
      "50%                 144.500000            206.500000                 0.427889   \n",
      "75%                 186.000000            323.750000                 2.512688   \n",
      "max                 380.000000            405.000000               178.000000   \n",
      "\n",
      "        Serious_Injuries_Per_Incident  Minor_Injuries_Per_Incident  \\\n",
      "count                       10.000000                    10.000000   \n",
      "unique                            NaN                          NaN   \n",
      "top                               NaN                          NaN   \n",
      "freq                              NaN                          NaN   \n",
      "mean                         0.394400                     0.388466   \n",
      "std                          0.504471                     0.356043   \n",
      "min                          0.000000                     0.000000   \n",
      "25%                          0.151229                     0.204899   \n",
      "50%                          0.214492                     0.326310   \n",
      "75%                          0.315051                     0.435530   \n",
      "max                          1.660377                     1.320755   \n",
      "\n",
      "        Total.Injuries  \n",
      "count        10.000000  \n",
      "unique             NaN  \n",
      "top                NaN  \n",
      "freq               NaN  \n",
      "mean        852.400000  \n",
      "std         379.620629  \n",
      "min         534.000000  \n",
      "25%         581.250000  \n",
      "50%         791.500000  \n",
      "75%         910.750000  \n",
      "max        1804.000000  \n"
     ]
    }
   ],
   "source": [
    "print(\"\\nSummary Statistics of Top Aircraft Models\")\n",
    "print(top_aircraft.describe(include='all'))"
   ]
  },
  {
   "cell_type": "markdown",
   "metadata": {},
   "source": [
    "8.2 Visualizing on the safest models"
   ]
  },
  {
   "cell_type": "code",
   "execution_count": 26,
   "metadata": {},
   "outputs": [
    {
     "data": {
      "image/png": "[encoded data removed]",
      "text/plain": [
       "<Figure size 1080x576 with 1 Axes>"
      ]
     },
     "metadata": {
      "needs_background": "light"
     },
     "output_type": "display_data"
    }
   ],
   "source": [
    "# Plotting the safest aircraft models\n",
    "plt.figure(figsize=(15, 8))\n",
    "sns.barplot(data=safest_aircraft, x='Model', y='Total.Injuries')\n",
    "plt.xticks(rotation=90)\n",
    "plt.title('Safest Aircraft Models')\n",
    "plt.xlabel('Aircraft Model')\n",
    "plt.ylabel('Total Injuries')\n",
    "plt.show()"
   ]
  },
  {
   "cell_type": "markdown",
   "metadata": {},
   "source": [
    "9. Checking for ethics\n",
    "\n",
    "\n",
    "9.1 Data Representation: Check distribution of incidents across states; this identifies any imbalances"
   ]
  },
  {
   "cell_type": "code",
   "execution_count": 28,
   "metadata": {},
   "outputs": [
    {
     "data": {
      "image/png": "[encoded data removed]",
      "text/plain": [
       "<Figure size 1080x576 with 1 Axes>"
      ]
     },
     "metadata": {
      "needs_background": "light"
     },
     "output_type": "display_data"
    }
   ],
   "source": [
    "import matplotlib.pyplot as plt\n",
    "import seaborn as sns\n",
    "plt.figure(figsize=(15, 8))\n",
    "sns.histplot(aircraft_agg['Total.Injuries'], bins=40)\n",
    "plt.title('Distribution of Total Aviation Injuries per State')\n",
    "plt.xlabel('Total Incidents')\n",
    "plt.ylabel('Frequency')\n",
    "plt.savefig('/New folder/Distribution of Total Aviation Injuries per State.png')\n",
    "plt.show()"
   ]
  },
  {
   "cell_type": "markdown",
   "metadata": {},
   "source": [
    "9.2 Missing Data: Analyzing missing data identifies any patterns in missing data"
   ]
  },
  {
   "cell_type": "code",
   "execution_count": 29,
   "metadata": {},
   "outputs": [
    {
     "data": {
      "text/plain": [
       "Text(0.5, -43.0, 'Column')"
      ]
     },
     "execution_count": 29,
     "metadata": {},
     "output_type": "execute_result"
    },
    {
     "data": {
      "image/png": "[encoded data removed]",
      "text/plain": [
       "<Figure size 1080x576 with 1 Axes>"
      ]
     },
     "metadata": {
      "needs_background": "light"
     },
     "output_type": "display_data"
    }
   ],
   "source": [
    "missing_data = aviation_data.isnull().mean() * 100\n",
    "\n",
    "plt.figure(figsize=(15, 8))\n",
    "sns.barplot(x=missing_data.index, y=missing_data)\n",
    "plt.xticks(rotation=90)\n",
    "plt.title('Percentage of Missing Data by Column')\n",
    "plt.savefig('/New folder/Percentage of Missing Data by Column.png')\n",
    "plt.xlabel('Column')"
   ]
  },
  {
   "cell_type": "markdown",
   "metadata": {},
   "source": [
    "Summary.\n",
    "\n",
    "\n",
    "Data Cleaning: I loaded and cleaned the data, handling missing values and extracting relevant information.\n",
    "\n",
    "\n",
    "Data Analysis:I  aggregated data to compute incident frequency and severity for different aircraft makes and models.\n",
    "\n",
    "\n",
    "Computations: I calculated safety scores based on fatalities, serious injuries, and minor injuries.\n",
    "\n",
    "\n",
    "Visualization: I created visualizations to present the analysis, focusing on incident counts and safety scores.\n",
    "\n",
    "\n",
    "Data Ethics: I created visualizations to view on the ethical models of the data."
   ]
  },
  {
   "cell_type": "markdown",
   "metadata": {},
   "source": [
    "Conclusion\n",
    "\n",
    "From my analysis, I identified the aircraft models with the highest and lowest total injuries. The safest aircraft models are those with the least total injuries. The least total injuries have their plots empty because there are no incidents but the aircraft models are displayed."
   ]
  },
  {
   "cell_type": "markdown",
   "metadata": {},
   "source": [
    "Recommendation\n",
    "\n",
    "Based on the data, I would like to recommend to my Business Stakeholders, that the safest aicrafts to chose are those that show fewest total injuries that is fatal,serious and minor injuries.\n",
    "\n",
    "\n",
    "                                                                 "
   ]
  },
  {
   "cell_type": "markdown",
   "metadata": {},
   "source": [
    "                                                                                                             Gladwell Chepkorir"
   ]
  }
 ],
 "metadata": {
  "kernelspec": {
   "display_name": "learn-env",
   "language": "python",
   "name": "python3"
  },
  "language_info": {
   "codemirror_mode": {
    "name": "ipython",
    "version": 3
   },
   "file_extension": ".py",
   "mimetype": "text/x-python",
   "name": "python",
   "nbconvert_exporter": "python",
   "pygments_lexer": "ipython3",
   "version": "3.8.5"
  }
 },
 "nbformat": 4,
 "nbformat_minor": 2
}
